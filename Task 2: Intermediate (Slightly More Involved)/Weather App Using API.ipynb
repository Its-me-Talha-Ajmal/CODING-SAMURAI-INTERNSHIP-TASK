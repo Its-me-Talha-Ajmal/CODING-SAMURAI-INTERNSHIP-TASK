{
 "cells": [
  {
   "cell_type": "code",
   "execution_count": 12,
   "id": "55ce72af-d1b0-48b4-b96c-0530c4741b83",
   "metadata": {},
   "outputs": [
    {
     "name": "stdout",
     "output_type": "stream",
     "text": [
      "Weather in Multan:\n",
      "Temperature: 12.94°C\n",
      "Humidity: 67%\n",
      "Weather: smoke\n",
      "--------------------\n",
      "Weather in Shujaabad:\n",
      "Temperature: 15.75°C\n",
      "Humidity: 13%\n",
      "Weather: broken clouds\n",
      "--------------------\n",
      "Weather in Lahore:\n",
      "Temperature: 13.99°C\n",
      "Humidity: 58%\n",
      "Weather: smoke\n",
      "--------------------\n",
      "Weather in Karachi:\n",
      "Temperature: 15.9°C\n",
      "Humidity: 51%\n",
      "Weather: haze\n",
      "--------------------\n",
      "Weather in Islamabad:\n",
      "Temperature: 10.47°C\n",
      "Humidity: 65%\n",
      "Weather: overcast clouds\n",
      "--------------------\n"
     ]
    }
   ],
   "source": [
    "import requests\n",
    "import json\n",
    "\n",
    "def get_weather(api_key, city):\n",
    "    base_url = f\"https://api.openweathermap.org/data/2.5/weather?q={city}&appid={api_key}&units=metric\"\n",
    "    response = requests.get(base_url)\n",
    "    weather_data = response.json()\n",
    "    return weather_data\n",
    "\n",
    "def display_weather(weather_data, city):\n",
    "    print(f\"Weather in {city}:\")\n",
    "    if 'main' in weather_data:\n",
    "        temp = weather_data['main']['temp']\n",
    "        print(f\"Temperature: {temp}°C\")\n",
    "        print(f\"Humidity: {weather_data['main']['humidity']}%\")\n",
    "    if 'weather' in weather_data and weather_data['weather']:\n",
    "        print(f\"Weather: {weather_data['weather'][0]['description']}\")\n",
    "    print(\"--------------------\")\n",
    "\n",
    "def main():\n",
    "    api_key = \"YOUR_API_KEY\"\n",
    "    cities = [\"Multan\", \"Shujaabad\", \"Lahore\", \"Karachi\", \"Islamabad\"]\n",
    "    for city in cities:\n",
    "        try:\n",
    "            weather_data = get_weather(api_key, city)\n",
    "            display_weather(weather_data, city)\n",
    "        except requests.exceptions.RequestException as e:\n",
    "            print(f\"Error: {e}\")\n",
    "\n",
    "if __name__ == \"__main__\":\n",
    "    main()"
   ]
  },
  {
   "cell_type": "code",
   "execution_count": 13,
   "id": "ec5ade51-5c31-4cca-afaa-2ca505fa383f",
   "metadata": {},
   "outputs": [
    {
     "name": "stdout",
     "output_type": "stream",
     "text": [
      "Weather in Multan:\n",
      "Temperature: 12.94°C\n",
      "Temperature is lower than moderate temperature (25°C)\n",
      "Humidity: 67%\n",
      "Weather: smoke\n",
      "--------------------\n",
      "Weather in Shujaabad:\n",
      "Temperature: 15.75°C\n",
      "Temperature is lower than moderate temperature (25°C)\n",
      "Humidity: 13%\n",
      "Weather: broken clouds\n",
      "--------------------\n",
      "Weather in Lahore:\n",
      "Temperature: 13.99°C\n",
      "Temperature is lower than moderate temperature (25°C)\n",
      "Humidity: 58%\n",
      "Weather: smoke\n",
      "--------------------\n",
      "Weather in Karachi:\n",
      "Temperature: 14.9°C\n",
      "Temperature is lower than moderate temperature (25°C)\n",
      "Humidity: 51%\n",
      "Weather: haze\n",
      "--------------------\n",
      "Weather in Islamabad:\n",
      "Temperature: 9.91°C\n",
      "Temperature is lower than moderate temperature (25°C)\n",
      "Humidity: 67%\n",
      "Weather: overcast clouds\n",
      "--------------------\n"
     ]
    }
   ],
   "source": [
    "import requests\n",
    "import json\n",
    "\n",
    "def get_weather(api_key, city):\n",
    "    base_url = f\"https://api.openweathermap.org/data/2.5/weather?q={city}&appid={api_key}&units=metric\"\n",
    "    response = requests.get(base_url)\n",
    "    weather_data = response.json()\n",
    "    return weather_data\n",
    "\n",
    "def display_weather(weather_data, city, moderate_temp):\n",
    "    print(f\"Weather in {city}:\")\n",
    "    if 'main' in weather_data:\n",
    "        temp = weather_data['main']['temp']\n",
    "        print(f\"Temperature: {temp}°C\")\n",
    "        if temp > moderate_temp:\n",
    "            print(f\"Temperature is higher than moderate temperature ({moderate_temp}°C)\")\n",
    "        elif temp < moderate_temp:\n",
    "            print(f\"Temperature is lower than moderate temperature ({moderate_temp}°C)\")\n",
    "        else:\n",
    "            print(f\"Temperature is equal to moderate temperature ({moderate_temp}°C)\")\n",
    "        print(f\"Humidity: {weather_data['main']['humidity']}%\")\n",
    "        if 'weather' in weather_data and weather_data['weather']:\n",
    "            print(f\"Weather: {weather_data['weather'][0]['description']}\")\n",
    "    print(\"--------------------\")\n",
    "\n",
    "def main():\n",
    "    api_key = \"YOUR_API_KEY\"\n",
    "    cities = [\"Multan\", \"Shujaabad\", \"Lahore\", \"Karachi\", \"Islamabad\"]\n",
    "    moderate_temp = 25  # moderate temperature in Celsius\n",
    "    for city in cities:\n",
    "        try:\n",
    "            weather_data = get_weather(api_key, city)\n",
    "            display_weather(weather_data, city, moderate_temp)\n",
    "        except requests.exceptions.RequestException as e:\n",
    "            print(f\"Error: {e}\")\n",
    "\n",
    "if __name__ == \"__main__\":\n",
    "    main()"
   ]
  },
  {
   "cell_type": "code",
   "execution_count": 14,
   "id": "f11961d2-4370-45cf-9324-0b40c5195aae",
   "metadata": {},
   "outputs": [
    {
     "name": "stdout",
     "output_type": "stream",
     "text": [
      "Enter a city name (or 'q' to quit):  Multan\n"
     ]
    },
    {
     "name": "stdout",
     "output_type": "stream",
     "text": [
      "Weather in Multan:\n",
      "Temperature: 12.94°C\n",
      "Temperature is lower than moderate temperature (25°C)\n",
      "Humidity: 67%\n",
      "Weather: smoke\n",
      "--------------------\n"
     ]
    },
    {
     "name": "stdout",
     "output_type": "stream",
     "text": [
      "Enter a city name (or 'q' to quit):  Lahore\n"
     ]
    },
    {
     "name": "stdout",
     "output_type": "stream",
     "text": [
      "Weather in Lahore:\n",
      "Temperature: 13.99°C\n",
      "Temperature is lower than moderate temperature (25°C)\n",
      "Humidity: 58%\n",
      "Weather: smoke\n",
      "--------------------\n"
     ]
    },
    {
     "name": "stdout",
     "output_type": "stream",
     "text": [
      "Enter a city name (or 'q' to quit):  New delhi\n"
     ]
    },
    {
     "name": "stdout",
     "output_type": "stream",
     "text": [
      "Weather in New delhi:\n",
      "Temperature: 12.09°C\n",
      "Temperature is lower than moderate temperature (25°C)\n",
      "Humidity: 58%\n",
      "Weather: haze\n",
      "--------------------\n"
     ]
    },
    {
     "name": "stdout",
     "output_type": "stream",
     "text": [
      "Enter a city name (or 'q' to quit):  Bombay\n"
     ]
    },
    {
     "name": "stdout",
     "output_type": "stream",
     "text": [
      "Weather in Bombay:\n",
      "Temperature: 26.99°C\n",
      "Temperature is higher than moderate temperature (25°C)\n",
      "Humidity: 44%\n",
      "Weather: smoke\n",
      "--------------------\n"
     ]
    },
    {
     "name": "stdout",
     "output_type": "stream",
     "text": [
      "Enter a city name (or 'q' to quit):  q\n"
     ]
    }
   ],
   "source": [
    "import requests\n",
    "import json\n",
    "\n",
    "def get_weather(api_key, city):\n",
    "    base_url = f\"https://api.openweathermap.org/data/2.5/weather?q={city}&appid={api_key}&units=metric\"\n",
    "    response = requests.get(base_url)\n",
    "    weather_data = response.json()\n",
    "    return weather_data\n",
    "\n",
    "def display_weather(weather_data, city, moderate_temp):\n",
    "    print(f\"Weather in {city}:\")\n",
    "    if 'main' in weather_data:\n",
    "        temp = weather_data['main']['temp']\n",
    "        print(f\"Temperature: {temp}°C\")\n",
    "        if temp > moderate_temp:\n",
    "            print(f\"Temperature is higher than moderate temperature ({moderate_temp}°C)\")\n",
    "        elif temp < moderate_temp:\n",
    "            print(f\"Temperature is lower than moderate temperature ({moderate_temp}°C)\")\n",
    "        else:\n",
    "            print(f\"Temperature is equal to moderate temperature ({moderate_temp}°C)\")\n",
    "        print(f\"Humidity: {weather_data['main']['humidity']}%\")\n",
    "        if 'weather' in weather_data and weather_data['weather']:\n",
    "            print(f\"Weather: {weather_data['weather'][0]['description']}\")\n",
    "    print(\"--------------------\")\n",
    "\n",
    "def main():\n",
    "    api_key = \"YOUR_API_KEY\"\n",
    "    moderate_temp = 25  # moderate temperature in Celsius\n",
    "    while True:\n",
    "        city = input(\"Enter a city name (or 'q' to quit): \")\n",
    "        if city.lower() == 'q':\n",
    "            break\n",
    "        try:\n",
    "            weather_data = get_weather(api_key, city)\n",
    "            display_weather(weather_data, city, moderate_temp)\n",
    "        except requests.exceptions.RequestException as e:\n",
    "            print(f\"Error: {e}\")\n",
    "\n",
    "if __name__ == \"__main__\":\n",
    "    main()"
   ]
  }
 ],
 "metadata": {
  "kernelspec": {
   "display_name": "Python 3 (ipykernel)",
   "language": "python",
   "name": "python3"
  },
  "language_info": {
   "codemirror_mode": {
    "name": "ipython",
    "version": 3
   },
   "file_extension": ".py",
   "mimetype": "text/x-python",
   "name": "python",
   "nbconvert_exporter": "python",
   "pygments_lexer": "ipython3",
   "version": "3.12.4"
  }
 },
 "nbformat": 4,
 "nbformat_minor": 5
}
