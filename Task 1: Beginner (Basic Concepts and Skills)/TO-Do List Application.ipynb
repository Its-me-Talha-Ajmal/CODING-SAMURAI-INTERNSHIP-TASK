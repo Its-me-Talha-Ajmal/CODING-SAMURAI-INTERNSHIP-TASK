{
 "cells": [
  {
   "cell_type": "code",
   "execution_count": null,
   "id": "745e51a5-47f3-40d8-952b-9921ed100547",
   "metadata": {},
   "outputs": [
    {
     "name": "stdout",
     "output_type": "stream",
     "text": [
      "Welcome to the Task Management App!\n"
     ]
    },
    {
     "name": "stdin",
     "output_type": "stream",
     "text": [
      "How many tasks do you want to add?  3\n",
      "Enter task 1:  Reading\n",
      "Enter task 2:  Coding\n",
      "Enter task 3:  Lunch\n"
     ]
    },
    {
     "name": "stdout",
     "output_type": "stream",
     "text": [
      "\n",
      "You have added the following tasks:\n",
      "Tasks:\n",
      "1. Reading\n",
      "2. Coding\n",
      "3. Lunch\n",
      "\n",
      "Options:\n",
      "1. Add task\n",
      "2. Delete task\n",
      "3. View tasks\n",
      "4. Save tasks\n",
      "5. Quit\n"
     ]
    },
    {
     "name": "stdin",
     "output_type": "stream",
     "text": [
      "Choose an option:  1\n",
      "Enter a task:  Market\n"
     ]
    },
    {
     "name": "stdout",
     "output_type": "stream",
     "text": [
      "\n",
      "Options:\n",
      "1. Add task\n",
      "2. Delete task\n",
      "3. View tasks\n",
      "4. Save tasks\n",
      "5. Quit\n"
     ]
    },
    {
     "name": "stdin",
     "output_type": "stream",
     "text": [
      "Choose an option:  3\n"
     ]
    },
    {
     "name": "stdout",
     "output_type": "stream",
     "text": [
      "Tasks:\n",
      "1. Reading\n",
      "2. Coding\n",
      "3. Lunch\n",
      "4. Market\n",
      "\n",
      "Options:\n",
      "1. Add task\n",
      "2. Delete task\n",
      "3. View tasks\n",
      "4. Save tasks\n",
      "5. Quit\n"
     ]
    },
    {
     "name": "stdin",
     "output_type": "stream",
     "text": [
      "Choose an option:  2\n"
     ]
    },
    {
     "name": "stdout",
     "output_type": "stream",
     "text": [
      "Tasks:\n",
      "1. Reading\n",
      "2. Coding\n",
      "3. Lunch\n",
      "4. Market\n"
     ]
    },
    {
     "name": "stdin",
     "output_type": "stream",
     "text": [
      "Enter the task number to delete:  1\n"
     ]
    },
    {
     "name": "stdout",
     "output_type": "stream",
     "text": [
      "\n",
      "Options:\n",
      "1. Add task\n",
      "2. Delete task\n",
      "3. View tasks\n",
      "4. Save tasks\n",
      "5. Quit\n"
     ]
    },
    {
     "name": "stdin",
     "output_type": "stream",
     "text": [
      "Choose an option:  3\n"
     ]
    },
    {
     "name": "stdout",
     "output_type": "stream",
     "text": [
      "Tasks:\n",
      "1. Coding\n",
      "2. Lunch\n",
      "3. Market\n",
      "\n",
      "Options:\n",
      "1. Add task\n",
      "2. Delete task\n",
      "3. View tasks\n",
      "4. Save tasks\n",
      "5. Quit\n"
     ]
    }
   ],
   "source": [
    "def add_task():\n",
    "    task = input(\"Enter a task: \")\n",
    "    tasks.append(task)\n",
    "\n",
    "def delete_task():\n",
    "    view_tasks()\n",
    "    task_number = int(input(\"Enter the task number to delete: \"))\n",
    "    del tasks[task_number - 1]\n",
    "\n",
    "def view_tasks():\n",
    "    print(\"Tasks:\")\n",
    "    for i, task in enumerate(tasks, start=1):\n",
    "        print(f\"{i}. {task}\")\n",
    "\n",
    "def save_tasks():\n",
    "    with open(\"tasks.txt\", \"w\") as f:\n",
    "        for task in tasks:\n",
    "            f.write(task + \"\\n\")\n",
    "\n",
    "def load_tasks():\n",
    "    global tasks\n",
    "    try:\n",
    "        with open(\"tasks.txt\", \"r\") as f:\n",
    "            tasks = [line.strip() for line in f.readlines()]\n",
    "    except FileNotFoundError:\n",
    "        tasks = []  # Initialize an empty list if the file doesn't exist\n",
    "\n",
    "def main():\n",
    "    global tasks\n",
    "    tasks = []\n",
    "    load_tasks()\n",
    "    print(\"Welcome to the Task Management App!\")\n",
    "    num_tasks = int(input(\"How many tasks do you want to add? \"))\n",
    "    tasks = []  # Clear the tasks list before adding new tasks\n",
    "    for i in range(num_tasks):\n",
    "        task = input(f\"Enter task {i+1}: \")\n",
    "        tasks.append(task)\n",
    "    print(\"\\nYou have added the following tasks:\")\n",
    "    view_tasks()\n",
    "    while True:\n",
    "        print(\"\\nOptions:\")\n",
    "        print(\"1. Add task\")\n",
    "        print(\"2. Delete task\")\n",
    "        print(\"3. View tasks\")\n",
    "        print(\"4. Save tasks\")\n",
    "        print(\"5. Quit\")\n",
    "        choice = input(\"Choose an option: \")\n",
    "        if choice == \"1\":\n",
    "            add_task()\n",
    "        elif choice == \"2\":\n",
    "            delete_task()\n",
    "        elif choice == \"3\":\n",
    "            view_tasks()\n",
    "        elif choice == \"4\":\n",
    "            save_tasks()\n",
    "        elif choice == \"5\":\n",
    "            break\n",
    "        else:\n",
    "            print(\"Invalid choice. Please choose a valid option.\")\n",
    "\n",
    "if __name__ == \"__main__\":\n",
    "    main()"
   ]
  },
  {
   "cell_type": "code",
   "execution_count": null,
   "id": "4ee82de9-7c31-4a97-805d-a6f565490999",
   "metadata": {},
   "outputs": [],
   "source": []
  }
 ],
 "metadata": {
  "kernelspec": {
   "display_name": "Python 3 (ipykernel)",
   "language": "python",
   "name": "python3"
  },
  "language_info": {
   "codemirror_mode": {
    "name": "ipython",
    "version": 3
   },
   "file_extension": ".py",
   "mimetype": "text/x-python",
   "name": "python",
   "nbconvert_exporter": "python",
   "pygments_lexer": "ipython3",
   "version": "3.12.4"
  }
 },
 "nbformat": 4,
 "nbformat_minor": 5
}
